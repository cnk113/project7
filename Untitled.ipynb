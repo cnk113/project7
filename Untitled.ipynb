{
 "cells": [
  {
   "cell_type": "code",
   "execution_count": 1,
   "id": "e164323d-9dd9-409e-a787-7bfc804e4cfd",
   "metadata": {},
   "outputs": [],
   "source": [
    "from nn import nn, preprocess, io\n",
    "from sklearn import datasets\n",
    "from sklearn.model_selection import train_test_split\n",
    "import matplotlib.pyplot as plt\n",
    "import numpy as np"
   ]
  },
  {
   "cell_type": "code",
   "execution_count": 2,
   "id": "f030d09f-01ae-4296-97a3-d9edf17d9204",
   "metadata": {},
   "outputs": [],
   "source": [
    "digits = datasets.load_digits()\n",
    "X = digits.data\n",
    "y = digits.target\n",
    "X_train, X_test, y_train, y_test = train_test_split(X, \n",
    "                                                    y, \n",
    "                                                    test_size=0.2)"
   ]
  },
  {
   "cell_type": "code",
   "execution_count": 21,
   "id": "5ef8fcc1-86dd-4389-8d8e-f6a08a17a453",
   "metadata": {},
   "outputs": [],
   "source": [
    "neural = nn.NeuralNetwork(nn_arch=[{'input_dim': 64, 'output_dim': 16, 'activation': 'relu'}, {'input_dim': 16, 'output_dim': 64, 'activation': 'relu'}], \n",
    "                          lr=.0001, seed=42, batch_size=16, epochs=100, loss_function='MSE') \n",
    "#train_losses, test_losses = neural.fit(X_train, y_train, X_test, y_test)\n",
    "#plt.plot(train_losses, label='Train')\n",
    "#plt.plot(test_losses, label='Test')"
   ]
  },
  {
   "cell_type": "code",
   "execution_count": 22,
   "id": "0831ad90-8958-4cf2-b8a5-632b326406d4",
   "metadata": {},
   "outputs": [],
   "source": [
    "pos = io.read_text_file('/Users/changkim/Desktop/project7/data/rap1-lieb-positives.txt')\n",
    "neg = io.read_fasta_file('/Users/changkim/Desktop/project7/data/yeast-upstream-1k-negative.fa')\n",
    "total = pos + neg\n",
    "total_labels = [True] * len(pos) + [False] * len(neg)"
   ]
  },
  {
   "cell_type": "code",
   "execution_count": 24,
   "id": "834c02c5-4340-4002-b979-caba8d95621b",
   "metadata": {},
   "outputs": [
    {
     "data": {
      "text/plain": [
       "True"
      ]
     },
     "execution_count": 24,
     "metadata": {},
     "output_type": "execute_result"
    }
   ],
   "source": [
    "'''\n",
    "The sampling here is very simple: the overrepresented class is subsampled to the counts of the underrepresented classes\n",
    "If run multiple times, the overrepresented classes should be as random as it can get\n",
    "'''\n",
    "balanced, balanced_labels = preprocess.sample_seqs(total, total_labels)\n",
    "len(pos) * 2 == len(balanced)"
   ]
  },
  {
   "cell_type": "code",
   "execution_count": 26,
   "id": "52749803-2acd-4211-984f-9bab9b3a2ad5",
   "metadata": {},
   "outputs": [],
   "source": [
    "X_train, X_test, y_train, y_test = train_test_split(balanced, balanced_labels, test_size=0.3)"
   ]
  }
 ],
 "metadata": {
  "kernelspec": {
   "display_name": "Python [conda env:venv] *",
   "language": "python",
   "name": "conda-env-venv-py"
  },
  "language_info": {
   "codemirror_mode": {
    "name": "ipython",
    "version": 3
   },
   "file_extension": ".py",
   "mimetype": "text/x-python",
   "name": "python",
   "nbconvert_exporter": "python",
   "pygments_lexer": "ipython3",
   "version": "3.10.0"
  }
 },
 "nbformat": 4,
 "nbformat_minor": 5
}
